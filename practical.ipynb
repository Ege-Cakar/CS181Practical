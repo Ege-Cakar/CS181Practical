{
 "cells": [
  {
   "cell_type": "code",
   "execution_count": null,
   "metadata": {},
   "outputs": [],
   "source": [
    "import pandas as pd\n",
    "import re\n",
    "import numpy as np"
   ]
  },
  {
   "cell_type": "code",
   "execution_count": null,
   "metadata": {},
   "outputs": [],
   "source": [
    "# Read in data\n",
    "train = pd.read_csv('data/train.csv')\n",
    "val = pd.read_csv('data/val.csv')"
   ]
  },
  {
   "cell_type": "code",
   "execution_count": null,
   "metadata": {},
   "outputs": [],
   "source": [
    "# Helper function for cleaning text\n",
    "def clean_html(text):\n",
    "    if pd.isna(text):\n",
    "        return text\n",
    "    # Remove HTML tags\n",
    "    clean = re.sub(r'<.*?>', '', str(text))\n",
    "    # Remove extra whitespaces\n",
    "    clean = re.sub(r'\\s+', ' ', clean).strip()\n",
    "    # Replace HTML entities\n",
    "    clean = re.sub(r'&amp;', '&', clean)\n",
    "    clean = re.sub(r'&lt;', '<', clean)\n",
    "    clean = re.sub(r'&gt;', '>', clean)\n",
    "    clean = re.sub(r'&quot;|&#34;', '\"', clean)\n",
    "    clean = re.sub(r'&apos;|&#39;', \"'\", clean)\n",
    "    return clean"
   ]
  },
  {
   "cell_type": "code",
   "execution_count": null,
   "metadata": {},
   "outputs": [],
   "source": [
    "#cleaning data\n",
    "train = train.map(clean_html)\n",
    "val = val.map(clean_html)"
   ]
  },
  {
   "cell_type": "code",
   "execution_count": null,
   "metadata": {},
   "outputs": [],
   "source": [
    "#pre-processing for Count Vectorizer\n",
    "from sklearn.feature_extraction.text import CountVectorizer \n",
    "count_vectorizer = CountVectorizer(stop_words='english')\n",
    "train_features_cv = count_vectorizer.fit_transform(train['snip'])\n",
    "val_features_cv = count_vectorizer.transform(val['snip'])"
   ]
  },
  {
   "cell_type": "code",
   "execution_count": null,
   "metadata": {},
   "outputs": [],
   "source": [
    "#training LR model for Count Vectorizer \n",
    "from sklearn.linear_model import LogisticRegression\n",
    "LR_cv = LogisticRegression(solver='saga', max_iter=1000)\n",
    "LR_cv.fit(train_features_cv, train['channel'])\n",
    "predictions_cv = LR_cv.predict(val_features_cv)"
   ]
  },
  {
   "cell_type": "code",
   "execution_count": null,
   "metadata": {},
   "outputs": [],
   "source": [
    "#pre-processing for Tfdif Vectorizer\n",
    "from sklearn.feature_extraction.text import TfidfVectorizer \n",
    "tfidf_vectorizer = TfidfVectorizer(stop_words='english')\n",
    "train_features_tv = tfidf_vectorizer.fit_transform(train['snip'])\n",
    "val_features_tv = tfidf_vectorizer.transform(val['snip'])"
   ]
  },
  {
   "cell_type": "code",
   "execution_count": null,
   "metadata": {},
   "outputs": [],
   "source": [
    "#training LR model for Tfdif Vectorizer \n",
    "from sklearn.linear_model import LogisticRegression\n",
    "LR_tv = LogisticRegression(solver='saga', max_iter=10000)\n",
    "LR_tv.fit(train_features_tv, train['channel'])\n",
    "predictions_tv = LR_tv.predict(val_features_tv)"
   ]
  },
  {
   "cell_type": "code",
   "execution_count": null,
   "metadata": {},
   "outputs": [],
   "source": [
    "#measuring accuracy \n",
    "from sklearn.metrics import accuracy_score\n",
    "true = val['channel'].to_numpy()\n",
    "accuracy_cv = accuracy_score(true, predictions_cv)\n",
    "print(f\"The accuracy of the Count Vectorizer Logistic Regressor is {accuracy_cv}\")\n",
    "accuracy_tv = accuracy_score(true, predictions_tv)\n",
    "print(f\"The accuracy of the Tfdif Vectorizer Logistic Regressor is {accuracy_tv}\")\n",
    "\n",
    "from sklearn.metrics import classification_report\n",
    "print(f\"The per-class accuracy of the Count Vectorizer Logistic Regressor is as below:\") \n",
    "print(classification_report(true, predictions_cv, zero_division = np.nan))\n",
    "print(f\"The per-class accuracy of the Tfdif Vectorizer Logistic Regressor is as below:\") \n",
    "print(classification_report(true, predictions_tv, zero_division = np.nan))"
   ]
  }
 ],
 "metadata": {
  "kernelspec": {
   "display_name": "Python 3",
   "language": "python",
   "name": "python3"
  },
  "language_info": {
   "codemirror_mode": {
    "name": "ipython",
    "version": 3
   },
   "file_extension": ".py",
   "mimetype": "text/x-python",
   "name": "python",
   "nbconvert_exporter": "python",
   "pygments_lexer": "ipython3",
   "version": "3.9.20"
  }
 },
 "nbformat": 4,
 "nbformat_minor": 2
}
